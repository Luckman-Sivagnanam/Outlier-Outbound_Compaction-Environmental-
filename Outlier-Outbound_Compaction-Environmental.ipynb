{
 "cells": [
  {
   "cell_type": "code",
   "execution_count": 2,
   "id": "26112e3c",
   "metadata": {},
   "outputs": [
    {
     "name": "stdout",
     "output_type": "stream",
     "text": [
      "Connection established successfully!\n",
      "        Total\n",
      "0   35.180000\n",
      "1   19.871666\n",
      "2   35.205000\n",
      "3   35.274444\n",
      "4   34.425000\n",
      "5   33.960000\n",
      "6   35.631111\n",
      "7   19.841428\n",
      "8   33.608750\n",
      "9   34.823333\n",
      "10  19.782222\n",
      "11  34.741666\n",
      "12  34.694000\n",
      "13  27.480000\n",
      "14  34.250000\n",
      "15  34.795000\n",
      "16  17.683571\n",
      "17  35.703333\n",
      "18  34.135714\n",
      "19  27.214545\n",
      "20  10.649047\n",
      "21  34.785833\n",
      "22  35.327500\n"
     ]
    }
   ],
   "source": [
    "import mysql.connector\n",
    "import pandas as pd\n",
    "import pyodbc\n",
    "\n",
    "import matplotlib.pyplot as plt\n",
    "\n",
    "\n",
    "import csv\n",
    "\n",
    "\n",
    "%matplotlib inline\n",
    "\n",
    "\n",
    "server = 'Yrkmill-trux01'\n",
    "database = 'TRUX_MT_COMP'\n",
    "username = 'dwuser'\n",
    "password = 'TruxRe@d0nly!'\n",
    "\n",
    "\n",
    "conn_str = f'DRIVER={{SQL Server}};SERVER={server};DATABASE={database};UID={username};PWD={password}'\n",
    "\n",
    "\n",
    "conn = pyodbc.connect(conn_str)\n",
    "print(\"Connection established successfully!\")\n",
    "\n",
    "\n",
    "cursor = conn.cursor()\n",
    "\n",
    "\n",
    "cursor.execute(\"SELECT AVG(LM02_BQTY) AS Total  FROM LM02  Where LM02.LM02_date > '2024/01/01' AND LM02.LM02_INOT = 'FALSE' GROUP BY LM02_DATE\")\n",
    "\n",
    "\n",
    "rows = cursor.fetchall()\n",
    "\n",
    "\n",
    "columns = [column[0] for column in cursor.description]\n",
    "\n",
    "\n",
    "df = pd.DataFrame.from_records(rows, columns=columns)\n",
    "\n",
    "\n",
    "print(df)\n",
    "\n",
    "\n",
    "cursor.close()\n",
    "conn.close()"
   ]
  },
  {
   "cell_type": "code",
   "execution_count": 3,
   "id": "51f54a28",
   "metadata": {},
   "outputs": [
    {
     "data": {
      "text/plain": [
       "<AxesSubplot:>"
      ]
     },
     "execution_count": 3,
     "metadata": {},
     "output_type": "execute_result"
    },
    {
     "data": {
      "image/png": "[encoded data removed]",
      "text/plain": [
       "<Figure size 1008x432 with 1 Axes>"
      ]
     },
     "metadata": {
      "needs_background": "light"
     },
     "output_type": "display_data"
    }
   ],
   "source": [
    "df['Total'] = pd.to_numeric(df['Total'])\n",
    "df.plot(kind='box', vert = False, figsize=(14,6))"
   ]
  },
  {
   "cell_type": "code",
   "execution_count": null,
   "id": "dde34b72",
   "metadata": {},
   "outputs": [],
   "source": []
  }
 ],
 "metadata": {
  "kernelspec": {
   "display_name": "Python 3 (ipykernel)",
   "language": "python",
   "name": "python3"
  },
  "language_info": {
   "codemirror_mode": {
    "name": "ipython",
    "version": 3
   },
   "file_extension": ".py",
   "mimetype": "text/x-python",
   "name": "python",
   "nbconvert_exporter": "python",
   "pygments_lexer": "ipython3",
   "version": "3.9.7"
  }
 },
 "nbformat": 4,
 "nbformat_minor": 5
}
